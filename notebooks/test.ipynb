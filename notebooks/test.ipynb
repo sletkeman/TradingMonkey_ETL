{
 "cells": [
  {
   "cell_type": "code",
   "execution_count": 2,
   "metadata": {},
   "outputs": [],
   "source": [
    "from os import environ\n",
    "from iexfinance.stocks import Stock\n",
    "from dotenv import load_dotenv\n",
    "from datetime import datetime\n",
    "from iexfinance.stocks import Stock\n",
    "import pyodbc\n",
    "import sqlalchemy\n",
    "import pandas\n",
    "import urllib\n",
    "from sqlalchemy import create_engine\n",
    "\n",
    "# splits a list into chunks of the given size\n",
    "def chunker(seq, size):\n",
    "    return (seq[pos:pos + size] for pos in range(0, len(seq), size))"
   ]
  },
  {
   "cell_type": "code",
   "execution_count": 7,
   "metadata": {},
   "outputs": [
    {
     "output_type": "stream",
     "name": "stdout",
     "text": [
      "Tsk_5c3a24\n"
     ]
    }
   ],
   "source": [
    "# load the environment variables and verity we have a token\n",
    "load_dotenv()\n",
    "iex_token = [environ[key] for key in environ if key == 'IEX_TOKEN']\n",
    "print(iex_token[0][0:10])"
   ]
  },
  {
   "cell_type": "code",
   "execution_count": 8,
   "metadata": {},
   "outputs": [
    {
     "output_type": "stream",
     "name": "stdout",
     "text": [
      "['ODBC Driver 17 for SQL Server']\n"
     ]
    }
   ],
   "source": [
    "# connect to the database\n",
    "drivers = [x for x in pyodbc.drivers() if x.endswith(' for SQL Server')]\n",
    "print(drivers)\n",
    "(svr, db, uid, pwd) = environ['MSSQL_SERVER'], environ['MSSQL_DB'], environ['MSSQL_UID'], environ['MSSQL_PWD']\n",
    "conn = pyodbc.connect(f'DRIVER=ODBC Driver 17 for SQL Server;SERVER={svr};DATABASE={db};UID={uid};PWD={pwd}')"
   ]
  },
  {
   "cell_type": "code",
   "execution_count": 9,
   "metadata": {},
   "outputs": [
    {
     "output_type": "execute_result",
     "data": {
      "text/plain": [
       "   EquityID Symbol         LastProcessDate\n",
       "0         3   AAPL 2021-01-01 12:10:12.390\n",
       "1        13   ADBE 2020-12-30 10:50:23.970\n",
       "2        32    AMD 2020-12-30 22:00:11.183\n",
       "3        34   AMGN 2021-01-01 13:40:10.680\n",
       "4       125   CGNX 2020-12-29 14:10:13.733"
      ],
      "text/html": "<div>\n<style scoped>\n    .dataframe tbody tr th:only-of-type {\n        vertical-align: middle;\n    }\n\n    .dataframe tbody tr th {\n        vertical-align: top;\n    }\n\n    .dataframe thead th {\n        text-align: right;\n    }\n</style>\n<table border=\"1\" class=\"dataframe\">\n  <thead>\n    <tr style=\"text-align: right;\">\n      <th></th>\n      <th>EquityID</th>\n      <th>Symbol</th>\n      <th>LastProcessDate</th>\n    </tr>\n  </thead>\n  <tbody>\n    <tr>\n      <th>0</th>\n      <td>3</td>\n      <td>AAPL</td>\n      <td>2021-01-01 12:10:12.390</td>\n    </tr>\n    <tr>\n      <th>1</th>\n      <td>13</td>\n      <td>ADBE</td>\n      <td>2020-12-30 10:50:23.970</td>\n    </tr>\n    <tr>\n      <th>2</th>\n      <td>32</td>\n      <td>AMD</td>\n      <td>2020-12-30 22:00:11.183</td>\n    </tr>\n    <tr>\n      <th>3</th>\n      <td>34</td>\n      <td>AMGN</td>\n      <td>2021-01-01 13:40:10.680</td>\n    </tr>\n    <tr>\n      <th>4</th>\n      <td>125</td>\n      <td>CGNX</td>\n      <td>2020-12-29 14:10:13.733</td>\n    </tr>\n  </tbody>\n</table>\n</div>"
     },
     "metadata": {},
     "execution_count": 9
    }
   ],
   "source": [
    "# get the symbols\n",
    "sql = \"Exec usp_Equity_Read\"\n",
    "symbols = pandas.read_sql(sql,conn)\n",
    "symbols['Symbol'] = symbols['Symbol'].str.upper()\n",
    "symbol_list = symbols['Symbol'].tolist()\n",
    "symbols.head()"
   ]
  },
  {
   "cell_type": "code",
   "execution_count": 10,
   "metadata": {},
   "outputs": [],
   "source": [
    "# get the trade date id\n",
    "# today = datetime.today().strftime('%Y-%m-%d')\n",
    "today = '2020-12-16'\n",
    "sql = f\"SELECT TradedateID FROM dbo.TradeDate WHERE TradeDate = '{today}'\"\n",
    "cursor = conn.cursor()\n",
    "cursor.execute(sql)\n",
    "tradeDateID = cursor.fetchone()[0]"
   ]
  },
  {
   "cell_type": "code",
   "execution_count": 11,
   "metadata": {},
   "outputs": [
    {
     "output_type": "execute_result",
     "data": {
      "text/plain": [
       "   EquityID Symbol symbol    open    close     high     low     volume\n",
       "0         3   AAPL   AAPL     140  133.130  141.410  133.97  104066814\n",
       "1        13   ADBE   ADBE  499.23  511.200  508.640  507.31    1506408\n",
       "2        32    AMD    AMD   95.19   94.550   95.600   91.01   25200822\n",
       "3        34   AMGN   AMGN  235.64  238.660  240.590  229.67    1827675\n",
       "4       125   CGNX   CGNX   81.67   83.012   83.053   82.84     429806"
      ],
      "text/html": "<div>\n<style scoped>\n    .dataframe tbody tr th:only-of-type {\n        vertical-align: middle;\n    }\n\n    .dataframe tbody tr th {\n        vertical-align: top;\n    }\n\n    .dataframe thead th {\n        text-align: right;\n    }\n</style>\n<table border=\"1\" class=\"dataframe\">\n  <thead>\n    <tr style=\"text-align: right;\">\n      <th></th>\n      <th>EquityID</th>\n      <th>Symbol</th>\n      <th>symbol</th>\n      <th>open</th>\n      <th>close</th>\n      <th>high</th>\n      <th>low</th>\n      <th>volume</th>\n    </tr>\n  </thead>\n  <tbody>\n    <tr>\n      <th>0</th>\n      <td>3</td>\n      <td>AAPL</td>\n      <td>AAPL</td>\n      <td>140</td>\n      <td>133.130</td>\n      <td>141.410</td>\n      <td>133.97</td>\n      <td>104066814</td>\n    </tr>\n    <tr>\n      <th>1</th>\n      <td>13</td>\n      <td>ADBE</td>\n      <td>ADBE</td>\n      <td>499.23</td>\n      <td>511.200</td>\n      <td>508.640</td>\n      <td>507.31</td>\n      <td>1506408</td>\n    </tr>\n    <tr>\n      <th>2</th>\n      <td>32</td>\n      <td>AMD</td>\n      <td>AMD</td>\n      <td>95.19</td>\n      <td>94.550</td>\n      <td>95.600</td>\n      <td>91.01</td>\n      <td>25200822</td>\n    </tr>\n    <tr>\n      <th>3</th>\n      <td>34</td>\n      <td>AMGN</td>\n      <td>AMGN</td>\n      <td>235.64</td>\n      <td>238.660</td>\n      <td>240.590</td>\n      <td>229.67</td>\n      <td>1827675</td>\n    </tr>\n    <tr>\n      <th>4</th>\n      <td>125</td>\n      <td>CGNX</td>\n      <td>CGNX</td>\n      <td>81.67</td>\n      <td>83.012</td>\n      <td>83.053</td>\n      <td>82.84</td>\n      <td>429806</td>\n    </tr>\n  </tbody>\n</table>\n</div>"
     },
     "metadata": {},
     "execution_count": 11
    }
   ],
   "source": [
    "# pull the data from iex and add it to the data frame\n",
    "# iex can only get 100 records at a time\n",
    "chunks = chunker(symbol_list, 100)\n",
    "data = symbols[['EquityID', 'Symbol']]\n",
    "quotes = []\n",
    "for chunk in chunks:\n",
    "    batch = Stock(chunk, output_format=\"pandas\")\n",
    "    quote = batch.get_quote()\n",
    "    quote = quote[['symbol', 'open', 'close', 'high', 'low', 'volume']]\n",
    "    quotes.append(quote)\n",
    "quotes = pandas.concat(quotes)\n",
    "data = data.merge(quotes, left_on='Symbol', right_on='symbol', how='outer')\n",
    "data.head()"
   ]
  },
  {
   "cell_type": "code",
   "execution_count": 6,
   "metadata": {},
   "outputs": [
    {
     "output_type": "execute_result",
     "data": {
      "text/plain": [
       "   EquityID Symbol    Open   Close     High     Low     Volume   TradeDate  \\\n",
       "0         3   AAPL  136.17  137.93   136.99  130.58  172394164  2020-12-16   \n",
       "1        13   ADBE  507.64  528.17   513.58  500.08    1712307  2020-12-16   \n",
       "2        32    AMD  94.521   96.01    97.99   92.66   37302121  2020-12-16   \n",
       "3        34   AMGN  228.37  223.08  230.175  224.27    3714214  2020-12-16   \n",
       "4       125   CGNX    84.4   81.78   84.905   80.22    1186499  2020-12-16   \n",
       "\n",
       "   TradeDateID           LastModifiedDate  \n",
       "0        13515 2020-12-22 23:08:54.085683  \n",
       "1        13515 2020-12-22 23:08:54.085683  \n",
       "2        13515 2020-12-22 23:08:54.085683  \n",
       "3        13515 2020-12-22 23:08:54.085683  \n",
       "4        13515 2020-12-22 23:08:54.085683  "
      ],
      "text/html": "<div>\n<style scoped>\n    .dataframe tbody tr th:only-of-type {\n        vertical-align: middle;\n    }\n\n    .dataframe tbody tr th {\n        vertical-align: top;\n    }\n\n    .dataframe thead th {\n        text-align: right;\n    }\n</style>\n<table border=\"1\" class=\"dataframe\">\n  <thead>\n    <tr style=\"text-align: right;\">\n      <th></th>\n      <th>EquityID</th>\n      <th>Symbol</th>\n      <th>Open</th>\n      <th>Close</th>\n      <th>High</th>\n      <th>Low</th>\n      <th>Volume</th>\n      <th>TradeDate</th>\n      <th>TradeDateID</th>\n      <th>LastModifiedDate</th>\n    </tr>\n  </thead>\n  <tbody>\n    <tr>\n      <th>0</th>\n      <td>3</td>\n      <td>AAPL</td>\n      <td>136.17</td>\n      <td>137.93</td>\n      <td>136.99</td>\n      <td>130.58</td>\n      <td>172394164</td>\n      <td>2020-12-16</td>\n      <td>13515</td>\n      <td>2020-12-22 23:08:54.085683</td>\n    </tr>\n    <tr>\n      <th>1</th>\n      <td>13</td>\n      <td>ADBE</td>\n      <td>507.64</td>\n      <td>528.17</td>\n      <td>513.58</td>\n      <td>500.08</td>\n      <td>1712307</td>\n      <td>2020-12-16</td>\n      <td>13515</td>\n      <td>2020-12-22 23:08:54.085683</td>\n    </tr>\n    <tr>\n      <th>2</th>\n      <td>32</td>\n      <td>AMD</td>\n      <td>94.521</td>\n      <td>96.01</td>\n      <td>97.99</td>\n      <td>92.66</td>\n      <td>37302121</td>\n      <td>2020-12-16</td>\n      <td>13515</td>\n      <td>2020-12-22 23:08:54.085683</td>\n    </tr>\n    <tr>\n      <th>3</th>\n      <td>34</td>\n      <td>AMGN</td>\n      <td>228.37</td>\n      <td>223.08</td>\n      <td>230.175</td>\n      <td>224.27</td>\n      <td>3714214</td>\n      <td>2020-12-16</td>\n      <td>13515</td>\n      <td>2020-12-22 23:08:54.085683</td>\n    </tr>\n    <tr>\n      <th>4</th>\n      <td>125</td>\n      <td>CGNX</td>\n      <td>84.4</td>\n      <td>81.78</td>\n      <td>84.905</td>\n      <td>80.22</td>\n      <td>1186499</td>\n      <td>2020-12-16</td>\n      <td>13515</td>\n      <td>2020-12-22 23:08:54.085683</td>\n    </tr>\n  </tbody>\n</table>\n</div>"
     },
     "metadata": {},
     "execution_count": 6
    }
   ],
   "source": [
    "# make the columns match the database table\n",
    "data.rename(columns = {\n",
    "    'open': 'Open', \n",
    "    'close': 'Close', \n",
    "    'high': 'High',\n",
    "    'low': 'Low',\n",
    "    'volume': 'Volume'\n",
    "}, inplace = True) \n",
    "data.drop(columns=['symbol'], inplace = True)\n",
    "data['TradeDate'] = today\n",
    "data['TradeDateID'] = tradeDateID\n",
    "data['LastModifiedDate'] = datetime.now()\n",
    "data.head()"
   ]
  },
  {
   "cell_type": "code",
   "execution_count": 7,
   "metadata": {},
   "outputs": [],
   "source": [
    "# write to the database\n",
    "(svr, db, uid, pwd) = environ['MSSQL_SERVER'], environ['MSSQL_DB'], environ['MSSQL_UID'], environ['MSSQL_PWD']\n",
    "conn = pyodbc.connect(f'DRIVER=ODBC Driver 17 for SQL Server;SERVER={svr};DATABASE={db};UID={uid};PWD={pwd}')\n",
    "\n",
    "quoted = urllib.parse.quote_plus(f'DRIVER=ODBC Driver 17 for SQL Server;SERVER={svr};DATABASE={db};UID={uid};PWD={pwd}')\n",
    "engine = create_engine(f'mssql+pyodbc:///?odbc_connect={quoted}')\n",
    "\n",
    "data.to_sql('Stage_IEXData', schema='dbo', con=engine, if_exists='append', index=False)"
   ]
  },
  {
   "cell_type": "code",
   "execution_count": 13,
   "metadata": {},
   "outputs": [],
   "source": [
    "appl = Stock(['AAPL'], output_format=\"pandas\")\n",
    "quote = appl.get_quote()\n",
    "#quote.head()\n",
    "quote.to_csv('quote.csv')"
   ]
  },
  {
   "cell_type": "code",
   "execution_count": null,
   "metadata": {},
   "outputs": [],
   "source": []
  }
 ],
 "metadata": {
  "kernelspec": {
   "display_name": "Python 3",
   "language": "python",
   "name": "python3"
  },
  "language_info": {
   "codemirror_mode": {
    "name": "ipython",
    "version": 3
   },
   "file_extension": ".py",
   "mimetype": "text/x-python",
   "name": "python",
   "nbconvert_exporter": "python",
   "pygments_lexer": "ipython3",
   "version": "3.9.1-final"
  }
 },
 "nbformat": 4,
 "nbformat_minor": 4
}