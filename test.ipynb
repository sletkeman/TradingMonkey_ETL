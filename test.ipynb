{
 "cells": [
  {
   "cell_type": "code",
   "execution_count": 7,
   "metadata": {},
   "outputs": [
    {
     "output_type": "stream",
     "name": "stdout",
     "text": [
      "Tsk_5c3a24\n"
     ]
    }
   ],
   "source": [
    "from os import environ\n",
    "from iexfinance.stocks import Stock\n",
    "from dotenv import load_dotenv\n",
    "load_dotenv()\n",
    "\n",
    "iex_token = [environ[key] for key in environ if key == 'IEX_TOKEN']\n",
    "print(iex_token[0][0:10])"
   ]
  },
  {
   "cell_type": "code",
   "execution_count": 13,
   "metadata": {},
   "outputs": [],
   "source": [
    "from iexfinance.refdata import get_symbols\n",
    "from iexfinance.stocks import Stock\n",
    "\n",
    "# symbols = get_symbols()\n",
    "# symbols.columns\n",
    "# symbols.loc[symbols['symbol'] == 'GOOGL']\n",
    "\n",
    "# from iexfinance.account import get_usage\n",
    "# get_usage(quota_type='messages')"
   ]
  },
  {
   "cell_type": "code",
   "execution_count": 26,
   "metadata": {},
   "outputs": [
    {
     "data": {
      "text/html": [
       "<div>\n",
       "<style scoped>\n",
       "    .dataframe tbody tr th:only-of-type {\n",
       "        vertical-align: middle;\n",
       "    }\n",
       "\n",
       "    .dataframe tbody tr th {\n",
       "        vertical-align: top;\n",
       "    }\n",
       "\n",
       "    .dataframe thead th {\n",
       "        text-align: right;\n",
       "    }\n",
       "</style>\n",
       "<table border=\"1\" class=\"dataframe\">\n",
       "  <thead>\n",
       "    <tr style=\"text-align: right;\">\n",
       "      <th></th>\n",
       "      <th>AAPL</th>\n",
       "      <th>MSFT</th>\n",
       "      <th>AMZN</th>\n",
       "      <th>GOOGL</th>\n",
       "      <th>FB</th>\n",
       "    </tr>\n",
       "  </thead>\n",
       "  <tbody>\n",
       "    <tr>\n",
       "      <th>price</th>\n",
       "      <td>127.6</td>\n",
       "      <td>223.4</td>\n",
       "      <td>3213.27</td>\n",
       "      <td>1781.26</td>\n",
       "      <td>274.34</td>\n",
       "    </tr>\n",
       "  </tbody>\n",
       "</table>\n",
       "</div>"
      ],
      "text/plain": [
       "        AAPL   MSFT     AMZN    GOOGL      FB\n",
       "price  127.6  223.4  3213.27  1781.26  274.34"
      ]
     },
     "execution_count": 26,
     "metadata": {},
     "output_type": "execute_result"
    }
   ],
   "source": [
    "symbols = ['AAPL', 'MSFT', 'AMZN', 'GOOGL', 'FB']\n",
    "batch = Stock(symbols, output_format=\"pandas\")\n",
    "batch.get_price()\n",
    "# advanced_stats = batch.get_advanced_stats()"
   ]
  },
  {
   "cell_type": "code",
   "execution_count": 24,
   "metadata": {},
   "outputs": [
    {
     "data": {
      "text/plain": [
       "Index(['beta', 'totalCash', 'currentDebt', 'revenue', 'grossProfit',\n",
       "       'totalRevenue', 'EBITDA', 'revenuePerShare', 'revenuePerEmployee',\n",
       "       'debtToEquity', 'profitMargin', 'enterpriseValue',\n",
       "       'enterpriseValueToRevenue', 'priceToSales', 'priceToBook',\n",
       "       'forwardPERatio', 'pegRatio', 'peHigh', 'peLow', 'week52highDate',\n",
       "       'week52lowDate', 'putCallRatio', 'companyName', 'marketcap',\n",
       "       'week52high', 'week52low', 'week52change', 'sharesOutstanding', 'float',\n",
       "       'avg10Volume', 'avg30Volume', 'day200MovingAvg', 'day50MovingAvg',\n",
       "       'employees', 'ttmEPS', 'ttmDividendRate', 'dividendYield',\n",
       "       'nextDividendDate', 'exDividendDate', 'nextEarningsDate', 'peRatio',\n",
       "       'maxChangePercent', 'year5ChangePercent', 'year2ChangePercent',\n",
       "       'year1ChangePercent', 'ytdChangePercent', 'month6ChangePercent',\n",
       "       'month3ChangePercent', 'month1ChangePercent', 'day30ChangePercent',\n",
       "       'day5ChangePercent'],\n",
       "      dtype='object')"
      ]
     },
     "execution_count": 24,
     "metadata": {},
     "output_type": "execute_result"
    }
   ],
   "source": [
    "advanced_stats.columns"
   ]
  },
  {
   "cell_type": "code",
   "execution_count": 25,
   "metadata": {},
   "outputs": [],
   "source": [
    "advanced_stats.to_csv('stats.csv')"
   ]
  },
  {
   "cell_type": "code",
   "execution_count": 20,
   "metadata": {},
   "outputs": [
    {
     "name": "stdout",
     "output_type": "stream",
     "text": [
      "['ODBC Driver 17 for SQL Server']\n"
     ]
    }
   ],
   "source": [
    "import pyodbc\n",
    "import pandas\n",
    "print([x for x in pyodbc.drivers() if x.endswith(' for SQL Server')])\n",
    "driver = '{ODBC Driver 17 for SQL Server}'\n",
    "(svr, db, uid, pwd) = environ['MSSQL_SERVER'], environ['MSSQL_DB'], environ['MSSQL_UID'], environ['MSSQL_PWD']\n",
    "conn = pyodbc.connect(f'DRIVER={driver};SERVER={svr};DATABASE={db};UID={uid};PWD={pwd}')"
   ]
  },
  {
   "cell_type": "code",
   "execution_count": 19,
   "metadata": {},
   "outputs": [
    {
     "data": {
      "text/html": [
       "<div>\n",
       "<style scoped>\n",
       "    .dataframe tbody tr th:only-of-type {\n",
       "        vertical-align: middle;\n",
       "    }\n",
       "\n",
       "    .dataframe tbody tr th {\n",
       "        vertical-align: top;\n",
       "    }\n",
       "\n",
       "    .dataframe thead th {\n",
       "        text-align: right;\n",
       "    }\n",
       "</style>\n",
       "<table border=\"1\" class=\"dataframe\">\n",
       "  <thead>\n",
       "    <tr style=\"text-align: right;\">\n",
       "      <th></th>\n",
       "      <th>id</th>\n",
       "      <th>symbol</th>\n",
       "      <th>price</th>\n",
       "      <th>timeRecorded</th>\n",
       "    </tr>\n",
       "  </thead>\n",
       "  <tbody>\n",
       "    <tr>\n",
       "      <th>0</th>\n",
       "      <td>1</td>\n",
       "      <td>AAPL</td>\n",
       "      <td>123.0</td>\n",
       "      <td>2020-12-15 05:04:46.880</td>\n",
       "    </tr>\n",
       "  </tbody>\n",
       "</table>\n",
       "</div>"
      ],
      "text/plain": [
       "   id symbol  price            timeRecorded\n",
       "0   1   AAPL  123.0 2020-12-15 05:04:46.880"
      ]
     },
     "execution_count": 19,
     "metadata": {},
     "output_type": "execute_result"
    }
   ],
   "source": [
    "sql = \"Select * from StockPrice\"\n",
    "pandas.read_sql(sql,conn)"
   ]
  },
  {
   "cell_type": "code",
   "execution_count": null,
   "metadata": {},
   "outputs": [],
   "source": []
  }
 ],
 "metadata": {
  "kernelspec": {
   "display_name": "Python 3",
   "language": "python",
   "name": "python3"
  },
  "language_info": {
   "codemirror_mode": {
    "name": "ipython",
    "version": 3
   },
   "file_extension": ".py",
   "mimetype": "text/x-python",
   "name": "python",
   "nbconvert_exporter": "python",
   "pygments_lexer": "ipython3",
   "version": "3.8.5-final"
  }
 },
 "nbformat": 4,
 "nbformat_minor": 4
}