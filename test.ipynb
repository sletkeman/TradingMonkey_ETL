{
 "cells": [
  {
   "cell_type": "code",
   "execution_count": 2,
   "metadata": {},
   "outputs": [],
   "source": [
    "from os import environ\n",
    "from iexfinance.stocks import Stock\n",
    "from dotenv import load_dotenv\n",
    "from datetime import datetime\n",
    "from iexfinance.stocks import Stock\n",
    "import pyodbc\n",
    "import sqlalchemy\n",
    "import pandas\n",
    "import urllib\n",
    "from sqlalchemy import create_engine\n",
    "\n",
    "# splits a list into chunks of the given size\n",
    "def chunker(seq, size):\n",
    "    return (seq[pos:pos + size] for pos in range(0, len(seq), size))"
   ]
  },
  {
   "cell_type": "code",
   "execution_count": 2,
   "metadata": {},
   "outputs": [
    {
     "output_type": "stream",
     "name": "stdout",
     "text": [
      "pk_f401aad\n"
     ]
    }
   ],
   "source": [
    "# load the environment variables and verity we have a token\n",
    "load_dotenv()\n",
    "iex_token = [environ[key] for key in environ if key == 'IEX_TOKEN']\n",
    "print(iex_token[0][0:10])"
   ]
  },
  {
   "cell_type": "code",
   "execution_count": 6,
   "metadata": {},
   "outputs": [
    {
     "output_type": "stream",
     "name": "stdout",
     "text": [
      "['ODBC Driver 17 for SQL Server']\n"
     ]
    }
   ],
   "source": [
    "# connect to the database\n",
    "drivers = [x for x in pyodbc.drivers() if x.endswith(' for SQL Server')]\n",
    "print(drivers)\n",
    "(svr, db, uid, pwd) = environ['MSSQL_SERVER'], environ['MSSQL_DB'], environ['MSSQL_UID'], environ['MSSQL_PWD']\n",
    "conn = pyodbc.connect(f'DRIVER=ODBC Driver 17 for SQL Server;SERVER={svr};DATABASE={db};UID={uid};PWD={pwd}')"
   ]
  },
  {
   "cell_type": "code",
   "execution_count": 7,
   "metadata": {},
   "outputs": [
    {
     "output_type": "execute_result",
     "data": {
      "text/plain": [
       "   EquityID Symbol         LastProcessDate\n",
       "0         3   AAPL 2021-01-04 23:40:16.913\n",
       "1        13   ADBE 2021-01-06 12:10:13.453\n",
       "2        32    AMD 2021-01-03 14:30:11.947\n",
       "3        34   AMGN 2021-01-06 15:00:10.470\n",
       "4       125   CGNX 2021-01-03 12:20:10.353"
      ],
      "text/html": "<div>\n<style scoped>\n    .dataframe tbody tr th:only-of-type {\n        vertical-align: middle;\n    }\n\n    .dataframe tbody tr th {\n        vertical-align: top;\n    }\n\n    .dataframe thead th {\n        text-align: right;\n    }\n</style>\n<table border=\"1\" class=\"dataframe\">\n  <thead>\n    <tr style=\"text-align: right;\">\n      <th></th>\n      <th>EquityID</th>\n      <th>Symbol</th>\n      <th>LastProcessDate</th>\n    </tr>\n  </thead>\n  <tbody>\n    <tr>\n      <th>0</th>\n      <td>3</td>\n      <td>AAPL</td>\n      <td>2021-01-04 23:40:16.913</td>\n    </tr>\n    <tr>\n      <th>1</th>\n      <td>13</td>\n      <td>ADBE</td>\n      <td>2021-01-06 12:10:13.453</td>\n    </tr>\n    <tr>\n      <th>2</th>\n      <td>32</td>\n      <td>AMD</td>\n      <td>2021-01-03 14:30:11.947</td>\n    </tr>\n    <tr>\n      <th>3</th>\n      <td>34</td>\n      <td>AMGN</td>\n      <td>2021-01-06 15:00:10.470</td>\n    </tr>\n    <tr>\n      <th>4</th>\n      <td>125</td>\n      <td>CGNX</td>\n      <td>2021-01-03 12:20:10.353</td>\n    </tr>\n  </tbody>\n</table>\n</div>"
     },
     "metadata": {},
     "execution_count": 7
    }
   ],
   "source": [
    "# get the symbols\n",
    "sql = \"Exec usp_Equity_Read\"\n",
    "symbols = pandas.read_sql(sql,conn)\n",
    "symbols['Symbol'] = symbols['Symbol'].str.upper()\n",
    "symbol_list = symbols['Symbol'].tolist()\n",
    "symbols.head()"
   ]
  },
  {
   "cell_type": "code",
   "execution_count": 8,
   "metadata": {},
   "outputs": [],
   "source": [
    "# get the trade date id\n",
    "today = datetime.today().strftime('%Y-%m-%d')\n",
    "# today = '2020-12-16'\n",
    "sql = f\"SELECT TradedateID FROM dbo.TradeDate WHERE TradeDate = '{today}'\"\n",
    "cursor = conn.cursor()\n",
    "cursor.execute(sql)\n",
    "tradeDateID = cursor.fetchone()[0]"
   ]
  },
  {
   "cell_type": "code",
   "execution_count": 15,
   "metadata": {},
   "outputs": [
    {
     "output_type": "execute_result",
     "data": {
      "text/plain": [
       "   EquityID Symbol symbol iexOpen iexClose  high   low iexVolume\n",
       "0         3   AAPL   AAPL  126.88   126.70  None  None   2202330\n",
       "1        13   ADBE   ADBE  466.22   466.14  None  None    240255\n",
       "2        32    AMD    AMD   90.32    90.32  None  None    696645\n",
       "3        34   AMGN   AMGN  233.37   233.37  None  None    231758\n",
       "4       125   CGNX   CGNX   83.68    83.68  None  None    101520"
      ],
      "text/html": "<div>\n<style scoped>\n    .dataframe tbody tr th:only-of-type {\n        vertical-align: middle;\n    }\n\n    .dataframe tbody tr th {\n        vertical-align: top;\n    }\n\n    .dataframe thead th {\n        text-align: right;\n    }\n</style>\n<table border=\"1\" class=\"dataframe\">\n  <thead>\n    <tr style=\"text-align: right;\">\n      <th></th>\n      <th>EquityID</th>\n      <th>Symbol</th>\n      <th>symbol</th>\n      <th>iexOpen</th>\n      <th>iexClose</th>\n      <th>high</th>\n      <th>low</th>\n      <th>iexVolume</th>\n    </tr>\n  </thead>\n  <tbody>\n    <tr>\n      <th>0</th>\n      <td>3</td>\n      <td>AAPL</td>\n      <td>AAPL</td>\n      <td>126.88</td>\n      <td>126.70</td>\n      <td>None</td>\n      <td>None</td>\n      <td>2202330</td>\n    </tr>\n    <tr>\n      <th>1</th>\n      <td>13</td>\n      <td>ADBE</td>\n      <td>ADBE</td>\n      <td>466.22</td>\n      <td>466.14</td>\n      <td>None</td>\n      <td>None</td>\n      <td>240255</td>\n    </tr>\n    <tr>\n      <th>2</th>\n      <td>32</td>\n      <td>AMD</td>\n      <td>AMD</td>\n      <td>90.32</td>\n      <td>90.32</td>\n      <td>None</td>\n      <td>None</td>\n      <td>696645</td>\n    </tr>\n    <tr>\n      <th>3</th>\n      <td>34</td>\n      <td>AMGN</td>\n      <td>AMGN</td>\n      <td>233.37</td>\n      <td>233.37</td>\n      <td>None</td>\n      <td>None</td>\n      <td>231758</td>\n    </tr>\n    <tr>\n      <th>4</th>\n      <td>125</td>\n      <td>CGNX</td>\n      <td>CGNX</td>\n      <td>83.68</td>\n      <td>83.68</td>\n      <td>None</td>\n      <td>None</td>\n      <td>101520</td>\n    </tr>\n  </tbody>\n</table>\n</div>"
     },
     "metadata": {},
     "execution_count": 15
    }
   ],
   "source": [
    "# pull the data from iex and add it to the data frame\n",
    "# iex can only get 100 records at a time\n",
    "chunks = chunker(symbol_list, 100)\n",
    "data = symbols[['EquityID', 'Symbol']]\n",
    "quotes = []\n",
    "for chunk in chunks:\n",
    "    batch = Stock(chunk, output_format=\"pandas\")\n",
    "    quote = batch.get_quote()\n",
    "    quote = quote[['symbol', 'iexOpen', 'iexClose', 'high', 'low', 'iexVolume']]\n",
    "    quotes.append(quote)\n",
    "quotes = pandas.concat(quotes)\n",
    "data = data.merge(quotes, left_on='Symbol', right_on='symbol', how='outer')\n",
    "data.head()"
   ]
  },
  {
   "cell_type": "code",
   "execution_count": 16,
   "metadata": {},
   "outputs": [
    {
     "output_type": "execute_result",
     "data": {
      "text/plain": [
       "   EquityID Symbol    Open   Close  High   Low   Volume   TradeDate  \\\n",
       "0         3   AAPL  126.88  126.70  None  None  2202330  2021-01-06   \n",
       "1        13   ADBE  466.22  466.14  None  None   240255  2021-01-06   \n",
       "2        32    AMD   90.32   90.32  None  None   696645  2021-01-06   \n",
       "3        34   AMGN  233.37  233.37  None  None   231758  2021-01-06   \n",
       "4       125   CGNX   83.68   83.68  None  None   101520  2021-01-06   \n",
       "\n",
       "   TradeDateID           LastModifiedDate  \n",
       "0        13528 2021-01-06 16:29:14.499150  \n",
       "1        13528 2021-01-06 16:29:14.499150  \n",
       "2        13528 2021-01-06 16:29:14.499150  \n",
       "3        13528 2021-01-06 16:29:14.499150  \n",
       "4        13528 2021-01-06 16:29:14.499150  "
      ],
      "text/html": "<div>\n<style scoped>\n    .dataframe tbody tr th:only-of-type {\n        vertical-align: middle;\n    }\n\n    .dataframe tbody tr th {\n        vertical-align: top;\n    }\n\n    .dataframe thead th {\n        text-align: right;\n    }\n</style>\n<table border=\"1\" class=\"dataframe\">\n  <thead>\n    <tr style=\"text-align: right;\">\n      <th></th>\n      <th>EquityID</th>\n      <th>Symbol</th>\n      <th>Open</th>\n      <th>Close</th>\n      <th>High</th>\n      <th>Low</th>\n      <th>Volume</th>\n      <th>TradeDate</th>\n      <th>TradeDateID</th>\n      <th>LastModifiedDate</th>\n    </tr>\n  </thead>\n  <tbody>\n    <tr>\n      <th>0</th>\n      <td>3</td>\n      <td>AAPL</td>\n      <td>126.88</td>\n      <td>126.70</td>\n      <td>None</td>\n      <td>None</td>\n      <td>2202330</td>\n      <td>2021-01-06</td>\n      <td>13528</td>\n      <td>2021-01-06 16:29:14.499150</td>\n    </tr>\n    <tr>\n      <th>1</th>\n      <td>13</td>\n      <td>ADBE</td>\n      <td>466.22</td>\n      <td>466.14</td>\n      <td>None</td>\n      <td>None</td>\n      <td>240255</td>\n      <td>2021-01-06</td>\n      <td>13528</td>\n      <td>2021-01-06 16:29:14.499150</td>\n    </tr>\n    <tr>\n      <th>2</th>\n      <td>32</td>\n      <td>AMD</td>\n      <td>90.32</td>\n      <td>90.32</td>\n      <td>None</td>\n      <td>None</td>\n      <td>696645</td>\n      <td>2021-01-06</td>\n      <td>13528</td>\n      <td>2021-01-06 16:29:14.499150</td>\n    </tr>\n    <tr>\n      <th>3</th>\n      <td>34</td>\n      <td>AMGN</td>\n      <td>233.37</td>\n      <td>233.37</td>\n      <td>None</td>\n      <td>None</td>\n      <td>231758</td>\n      <td>2021-01-06</td>\n      <td>13528</td>\n      <td>2021-01-06 16:29:14.499150</td>\n    </tr>\n    <tr>\n      <th>4</th>\n      <td>125</td>\n      <td>CGNX</td>\n      <td>83.68</td>\n      <td>83.68</td>\n      <td>None</td>\n      <td>None</td>\n      <td>101520</td>\n      <td>2021-01-06</td>\n      <td>13528</td>\n      <td>2021-01-06 16:29:14.499150</td>\n    </tr>\n  </tbody>\n</table>\n</div>"
     },
     "metadata": {},
     "execution_count": 16
    }
   ],
   "source": [
    "# make the columns match the database table\n",
    "data.rename(columns = {\n",
    "    'iexOpen': 'Open', \n",
    "    'iexClose': 'Close', \n",
    "    'high': 'High',\n",
    "    'low': 'Low',\n",
    "    'iexVolume': 'Volume'\n",
    "}, inplace = True) \n",
    "data.drop(columns=['symbol'], inplace = True)\n",
    "data['TradeDate'] = today\n",
    "data['TradeDateID'] = tradeDateID\n",
    "data['LastModifiedDate'] = datetime.now()\n",
    "data.head()"
   ]
  },
  {
   "cell_type": "code",
   "execution_count": 17,
   "metadata": {},
   "outputs": [],
   "source": [
    "# write to the database\n",
    "(svr, db, uid, pwd) = environ['MSSQL_SERVER'], environ['MSSQL_DB'], environ['MSSQL_UID'], environ['MSSQL_PWD']\n",
    "conn = pyodbc.connect(f'DRIVER=ODBC Driver 17 for SQL Server;SERVER={svr};DATABASE={db};UID={uid};PWD={pwd}')\n",
    "\n",
    "quoted = urllib.parse.quote_plus(f'DRIVER=ODBC Driver 17 for SQL Server;SERVER={svr};DATABASE={db};UID={uid};PWD={pwd}')\n",
    "engine = create_engine(f'mssql+pyodbc:///?odbc_connect={quoted}')\n",
    "\n",
    "data.to_sql('Stage_IEXData', schema='dbo', con=engine, if_exists='append', index=False)"
   ]
  },
  {
   "cell_type": "code",
   "execution_count": 3,
   "metadata": {},
   "outputs": [],
   "source": [
    "appl = Stock(['AAPL'], output_format=\"pandas\")\n",
    "quote = appl.get_quote()\n",
    "#quote.head()\n",
    "quote.to_csv('quote.csv')"
   ]
  },
  {
   "cell_type": "code",
   "execution_count": 3,
   "metadata": {},
   "outputs": [
    {
     "output_type": "error",
     "ename": "IEXQueryError",
     "evalue": "An error occurred while making the query (403): The API key provided is not valid.",
     "traceback": [
      "\u001b[1;31m---------------------------------------------------------------------------\u001b[0m",
      "\u001b[1;31mIEXQueryError\u001b[0m                             Traceback (most recent call last)",
      "\u001b[1;32m<ipython-input-3-b606b721b3da>\u001b[0m in \u001b[0;36m<module>\u001b[1;34m\u001b[0m\n\u001b[0;32m      5\u001b[0m \u001b[1;33m\u001b[0m\u001b[0m\n\u001b[0;32m      6\u001b[0m \u001b[1;33m\u001b[0m\u001b[0m\n\u001b[1;32m----> 7\u001b[1;33m \u001b[0mis_market_open\u001b[0m\u001b[1;33m(\u001b[0m\u001b[1;33m)\u001b[0m\u001b[1;33m\u001b[0m\u001b[1;33m\u001b[0m\u001b[0m\n\u001b[0m",
      "\u001b[1;32m<ipython-input-3-b606b721b3da>\u001b[0m in \u001b[0;36mis_market_open\u001b[1;34m()\u001b[0m\n\u001b[0;32m      1\u001b[0m \u001b[1;32mdef\u001b[0m \u001b[0mis_market_open\u001b[0m\u001b[1;33m(\u001b[0m\u001b[1;33m)\u001b[0m\u001b[1;33m:\u001b[0m\u001b[1;33m\u001b[0m\u001b[1;33m\u001b[0m\u001b[0m\n\u001b[0;32m      2\u001b[0m     \u001b[0menviron\u001b[0m\u001b[1;33m[\u001b[0m\u001b[1;34m'IEX_TOKEN'\u001b[0m\u001b[1;33m]\u001b[0m \u001b[1;33m=\u001b[0m \u001b[1;34m'asdf'\u001b[0m\u001b[1;33m\u001b[0m\u001b[1;33m\u001b[0m\u001b[0m\n\u001b[1;32m----> 3\u001b[1;33m     \u001b[0mappl\u001b[0m \u001b[1;33m=\u001b[0m \u001b[0mStock\u001b[0m\u001b[1;33m(\u001b[0m\u001b[1;33m[\u001b[0m\u001b[1;34m'AAPL'\u001b[0m\u001b[1;33m]\u001b[0m\u001b[1;33m,\u001b[0m \u001b[0moutput_format\u001b[0m\u001b[1;33m=\u001b[0m\u001b[1;34m\"json\"\u001b[0m\u001b[1;33m)\u001b[0m\u001b[1;33m.\u001b[0m\u001b[0mget_quote\u001b[0m\u001b[1;33m(\u001b[0m\u001b[1;33m)\u001b[0m\u001b[1;33m\u001b[0m\u001b[1;33m\u001b[0m\u001b[0m\n\u001b[0m\u001b[0;32m      4\u001b[0m     \u001b[0mprint\u001b[0m\u001b[1;33m(\u001b[0m\u001b[0mappl\u001b[0m\u001b[1;33m.\u001b[0m\u001b[0mget\u001b[0m\u001b[1;33m(\u001b[0m\u001b[1;34m'isUSMarketOpen'\u001b[0m\u001b[1;33m)\u001b[0m\u001b[1;33m)\u001b[0m\u001b[1;33m\u001b[0m\u001b[1;33m\u001b[0m\u001b[0m\n\u001b[0;32m      5\u001b[0m \u001b[1;33m\u001b[0m\u001b[0m\n",
      "\u001b[1;32mc:\\Users\\Scott\\TradingMonkey_ETL\\venv\\lib\\site-packages\\iexfinance\\stocks\\base.py\u001b[0m in \u001b[0;36mget_quote\u001b[1;34m(self, **kwargs)\u001b[0m\n\u001b[0;32m    335\u001b[0m             \u001b[0mmultiplied\u001b[0m \u001b[0mby\u001b[0m \u001b[0ma\u001b[0m \u001b[0mfactor\u001b[0m \u001b[0mof\u001b[0m \u001b[1;36m100.\u001b[0m\u001b[1;33m\u001b[0m\u001b[1;33m\u001b[0m\u001b[0m\n\u001b[0;32m    336\u001b[0m         \"\"\"\n\u001b[1;32m--> 337\u001b[1;33m         \u001b[1;32mreturn\u001b[0m \u001b[0mself\u001b[0m\u001b[1;33m.\u001b[0m\u001b[0m_get_endpoint\u001b[0m\u001b[1;33m(\u001b[0m\u001b[1;34m\"quote\"\u001b[0m\u001b[1;33m,\u001b[0m \u001b[0mparams\u001b[0m\u001b[1;33m=\u001b[0m\u001b[0mkwargs\u001b[0m\u001b[1;33m)\u001b[0m\u001b[1;33m\u001b[0m\u001b[1;33m\u001b[0m\u001b[0m\n\u001b[0m\u001b[0;32m    338\u001b[0m \u001b[1;33m\u001b[0m\u001b[0m\n\u001b[0;32m    339\u001b[0m     \u001b[1;32mdef\u001b[0m \u001b[0mget_time_series\u001b[0m\u001b[1;33m(\u001b[0m\u001b[0mself\u001b[0m\u001b[1;33m,\u001b[0m \u001b[1;33m**\u001b[0m\u001b[0mkwargs\u001b[0m\u001b[1;33m)\u001b[0m\u001b[1;33m:\u001b[0m\u001b[1;33m\u001b[0m\u001b[1;33m\u001b[0m\u001b[0m\n",
      "\u001b[1;32mc:\\Users\\Scott\\TradingMonkey_ETL\\venv\\lib\\site-packages\\iexfinance\\stocks\\base.py\u001b[0m in \u001b[0;36m_get_endpoint\u001b[1;34m(self, endpoint, params, format, filter_)\u001b[0m\n\u001b[0;32m     71\u001b[0m         \u001b[0mself\u001b[0m\u001b[1;33m.\u001b[0m\u001b[0mendpoints\u001b[0m \u001b[1;33m=\u001b[0m \u001b[1;33m[\u001b[0m\u001b[0mendpoint\u001b[0m\u001b[1;33m]\u001b[0m\u001b[1;33m\u001b[0m\u001b[1;33m\u001b[0m\u001b[0m\n\u001b[0;32m     72\u001b[0m \u001b[1;33m\u001b[0m\u001b[0m\n\u001b[1;32m---> 73\u001b[1;33m         \u001b[0mdata\u001b[0m \u001b[1;33m=\u001b[0m \u001b[0mself\u001b[0m\u001b[1;33m.\u001b[0m\u001b[0mfetch\u001b[0m\u001b[1;33m(\u001b[0m\u001b[0mformat\u001b[0m\u001b[1;33m=\u001b[0m\u001b[0mno_pandas\u001b[0m\u001b[1;33m)\u001b[0m\u001b[1;33m\u001b[0m\u001b[1;33m\u001b[0m\u001b[0m\n\u001b[0m\u001b[0;32m     74\u001b[0m         \u001b[1;31m# IEX Cloud returns multiple symbol requests as as a list of dicts\u001b[0m\u001b[1;33m\u001b[0m\u001b[1;33m\u001b[0m\u001b[1;33m\u001b[0m\u001b[0m\n\u001b[0;32m     75\u001b[0m         \u001b[1;31m# so convert to dict of dicts\u001b[0m\u001b[1;33m\u001b[0m\u001b[1;33m\u001b[0m\u001b[1;33m\u001b[0m\u001b[0m\n",
      "\u001b[1;32mc:\\Users\\Scott\\TradingMonkey_ETL\\venv\\lib\\site-packages\\iexfinance\\base.py\u001b[0m in \u001b[0;36mfetch\u001b[1;34m(self, format)\u001b[0m\n\u001b[0;32m    203\u001b[0m         \"\"\"\n\u001b[0;32m    204\u001b[0m         \u001b[0murl\u001b[0m \u001b[1;33m=\u001b[0m \u001b[0mself\u001b[0m\u001b[1;33m.\u001b[0m\u001b[0m_prepare_query\u001b[0m\u001b[1;33m(\u001b[0m\u001b[1;33m)\u001b[0m\u001b[1;33m\u001b[0m\u001b[1;33m\u001b[0m\u001b[0m\n\u001b[1;32m--> 205\u001b[1;33m         \u001b[0mdata\u001b[0m \u001b[1;33m=\u001b[0m \u001b[0mself\u001b[0m\u001b[1;33m.\u001b[0m\u001b[0m_execute_iex_query\u001b[0m\u001b[1;33m(\u001b[0m\u001b[0murl\u001b[0m\u001b[1;33m)\u001b[0m\u001b[1;33m\u001b[0m\u001b[1;33m\u001b[0m\u001b[0m\n\u001b[0m\u001b[0;32m    206\u001b[0m         \u001b[1;32mreturn\u001b[0m \u001b[0mself\u001b[0m\u001b[1;33m.\u001b[0m\u001b[0m_format_output\u001b[0m\u001b[1;33m(\u001b[0m\u001b[0mdata\u001b[0m\u001b[1;33m,\u001b[0m \u001b[0mformat\u001b[0m\u001b[1;33m=\u001b[0m\u001b[0mformat\u001b[0m\u001b[1;33m)\u001b[0m\u001b[1;33m\u001b[0m\u001b[1;33m\u001b[0m\u001b[0m\n\u001b[0;32m    207\u001b[0m \u001b[1;33m\u001b[0m\u001b[0m\n",
      "\u001b[1;32mc:\\Users\\Scott\\TradingMonkey_ETL\\venv\\lib\\site-packages\\iexfinance\\base.py\u001b[0m in \u001b[0;36m_execute_iex_query\u001b[1;34m(self, url)\u001b[0m\n\u001b[0;32m    174\u001b[0m                 \u001b[1;32mreturn\u001b[0m \u001b[0mself\u001b[0m\u001b[1;33m.\u001b[0m\u001b[0m_validate_response\u001b[0m\u001b[1;33m(\u001b[0m\u001b[0mresponse\u001b[0m\u001b[1;33m)\u001b[0m\u001b[1;33m\u001b[0m\u001b[1;33m\u001b[0m\u001b[0m\n\u001b[0;32m    175\u001b[0m             \u001b[0mtime\u001b[0m\u001b[1;33m.\u001b[0m\u001b[0msleep\u001b[0m\u001b[1;33m(\u001b[0m\u001b[0mself\u001b[0m\u001b[1;33m.\u001b[0m\u001b[0mpause\u001b[0m\u001b[1;33m)\u001b[0m\u001b[1;33m\u001b[0m\u001b[1;33m\u001b[0m\u001b[0m\n\u001b[1;32m--> 176\u001b[1;33m         \u001b[1;32mreturn\u001b[0m \u001b[0mself\u001b[0m\u001b[1;33m.\u001b[0m\u001b[0m_handle_error\u001b[0m\u001b[1;33m(\u001b[0m\u001b[0mresponse\u001b[0m\u001b[1;33m)\u001b[0m\u001b[1;33m\u001b[0m\u001b[1;33m\u001b[0m\u001b[0m\n\u001b[0m\u001b[0;32m    177\u001b[0m \u001b[1;33m\u001b[0m\u001b[0m\n\u001b[0;32m    178\u001b[0m     \u001b[1;32mdef\u001b[0m \u001b[0m_handle_error\u001b[0m\u001b[1;33m(\u001b[0m\u001b[0mself\u001b[0m\u001b[1;33m,\u001b[0m \u001b[0mresponse\u001b[0m\u001b[1;33m)\u001b[0m\u001b[1;33m:\u001b[0m\u001b[1;33m\u001b[0m\u001b[1;33m\u001b[0m\u001b[0m\n",
      "\u001b[1;32mc:\\Users\\Scott\\TradingMonkey_ETL\\venv\\lib\\site-packages\\iexfinance\\base.py\u001b[0m in \u001b[0;36m_handle_error\u001b[1;34m(self, response)\u001b[0m\n\u001b[0;32m    180\u001b[0m         \u001b[0mHandles\u001b[0m \u001b[0mall\u001b[0m \u001b[0mresponses\u001b[0m \u001b[0mwhich\u001b[0m \u001b[1;32mreturn\u001b[0m \u001b[0man\u001b[0m \u001b[0merror\u001b[0m \u001b[0mstatus\u001b[0m \u001b[0mcode\u001b[0m\u001b[1;33m\u001b[0m\u001b[1;33m\u001b[0m\u001b[0m\n\u001b[0;32m    181\u001b[0m         \"\"\"\n\u001b[1;32m--> 182\u001b[1;33m         \u001b[1;32mraise\u001b[0m \u001b[0mIEXQueryError\u001b[0m\u001b[1;33m(\u001b[0m\u001b[0mresponse\u001b[0m\u001b[1;33m.\u001b[0m\u001b[0mstatus_code\u001b[0m\u001b[1;33m,\u001b[0m \u001b[0mresponse\u001b[0m\u001b[1;33m.\u001b[0m\u001b[0mtext\u001b[0m\u001b[1;33m)\u001b[0m\u001b[1;33m\u001b[0m\u001b[1;33m\u001b[0m\u001b[0m\n\u001b[0m\u001b[0;32m    183\u001b[0m \u001b[1;33m\u001b[0m\u001b[0m\n\u001b[0;32m    184\u001b[0m     \u001b[1;32mdef\u001b[0m \u001b[0m_prepare_query\u001b[0m\u001b[1;33m(\u001b[0m\u001b[0mself\u001b[0m\u001b[1;33m)\u001b[0m\u001b[1;33m:\u001b[0m\u001b[1;33m\u001b[0m\u001b[1;33m\u001b[0m\u001b[0m\n",
      "\u001b[1;31mIEXQueryError\u001b[0m: An error occurred while making the query (403): The API key provided is not valid."
     ]
    }
   ],
   "source": [
    "def is_market_open():\n",
    "    appl = Stock(['AAPL'], output_format=\"json\").get_quote()\n",
    "    print(appl.get('isUSMarketOpen'))\n",
    "\n",
    "\n",
    "is_market_open()"
   ]
  },
  {
   "cell_type": "code",
   "execution_count": 4,
   "metadata": {},
   "outputs": [],
   "source": [
    "appl = Stock(['AAPL']).get_quote()\n",
    "appl.to_csv('appl2.csv')"
   ]
  },
  {
   "cell_type": "code",
   "execution_count": null,
   "metadata": {},
   "outputs": [],
   "source": []
  }
 ],
 "metadata": {
  "kernelspec": {
   "display_name": "Python 3",
   "language": "python",
   "name": "python3"
  },
  "language_info": {
   "codemirror_mode": {
    "name": "ipython",
    "version": 3
   },
   "file_extension": ".py",
   "mimetype": "text/x-python",
   "name": "python",
   "nbconvert_exporter": "python",
   "pygments_lexer": "ipython3",
   "version": "3.9.1-final"
  }
 },
 "nbformat": 4,
 "nbformat_minor": 4
}