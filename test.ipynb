{
 "cells": [
  {
   "cell_type": "code",
   "execution_count": 25,
   "metadata": {},
   "outputs": [
    {
     "output_type": "stream",
     "name": "stdout",
     "text": [
      "Tsk_5c3a24\n"
     ]
    }
   ],
   "source": [
    "from os import environ\n",
    "from iexfinance.stocks import Stock\n",
    "from dotenv import load_dotenv\n",
    "from datetime import datetime\n",
    "from iexfinance.stocks import Stock\n",
    "import pyodbc\n",
    "import sqlalchemy\n",
    "import pandas\n",
    "import urllib\n",
    "from sqlalchemy import create_engine\n",
    "\n",
    "# splits a list into chunks of the given size\n",
    "def chunker(seq, size):\n",
    "    return (seq[pos:pos + size] for pos in range(0, len(seq), size))\n",
    "\n",
    "# load the environment variables and verity we have a token\n",
    "load_dotenv()\n",
    "iex_token = [environ[key] for key in environ if key == 'IEX_TOKEN']\n",
    "print(iex_token[0][0:10])"
   ]
  },
  {
   "cell_type": "code",
   "execution_count": 9,
   "metadata": {},
   "outputs": [
    {
     "output_type": "stream",
     "name": "stdout",
     "text": [
      "['ODBC Driver 17 for SQL Server']\n"
     ]
    }
   ],
   "source": [
    "# connect to the database\n",
    "drivers = [x for x in pyodbc.drivers() if x.endswith(' for SQL Server')]\n",
    "print(drivers)\n",
    "(svr, db, uid, pwd) = environ['MSSQL_SERVER'], environ['MSSQL_DB'], environ['MSSQL_UID'], environ['MSSQL_PWD']\n",
    "conn = pyodbc.connect(f'DRIVER=ODBC Driver 17 for SQL Server;SERVER={svr};DATABASE={db};UID={uid};PWD={pwd}')"
   ]
  },
  {
   "cell_type": "code",
   "execution_count": 6,
   "metadata": {},
   "outputs": [
    {
     "output_type": "execute_result",
     "data": {
      "text/plain": [
       "   EquityID Symbol         LastProcessDate\n",
       "0         3   AAPL 2020-12-12 15:50:12.580\n",
       "1        13   ADBE 2020-12-15 22:20:09.750\n",
       "2        32    AMD 2020-12-15 20:30:11.150\n",
       "3        34   AMGN 2020-12-15 07:40:10.107\n",
       "4       125   CGNX 2020-12-15 04:20:10.360"
      ],
      "text/html": "<div>\n<style scoped>\n    .dataframe tbody tr th:only-of-type {\n        vertical-align: middle;\n    }\n\n    .dataframe tbody tr th {\n        vertical-align: top;\n    }\n\n    .dataframe thead th {\n        text-align: right;\n    }\n</style>\n<table border=\"1\" class=\"dataframe\">\n  <thead>\n    <tr style=\"text-align: right;\">\n      <th></th>\n      <th>EquityID</th>\n      <th>Symbol</th>\n      <th>LastProcessDate</th>\n    </tr>\n  </thead>\n  <tbody>\n    <tr>\n      <th>0</th>\n      <td>3</td>\n      <td>AAPL</td>\n      <td>2020-12-12 15:50:12.580</td>\n    </tr>\n    <tr>\n      <th>1</th>\n      <td>13</td>\n      <td>ADBE</td>\n      <td>2020-12-15 22:20:09.750</td>\n    </tr>\n    <tr>\n      <th>2</th>\n      <td>32</td>\n      <td>AMD</td>\n      <td>2020-12-15 20:30:11.150</td>\n    </tr>\n    <tr>\n      <th>3</th>\n      <td>34</td>\n      <td>AMGN</td>\n      <td>2020-12-15 07:40:10.107</td>\n    </tr>\n    <tr>\n      <th>4</th>\n      <td>125</td>\n      <td>CGNX</td>\n      <td>2020-12-15 04:20:10.360</td>\n    </tr>\n  </tbody>\n</table>\n</div>"
     },
     "metadata": {},
     "execution_count": 6
    }
   ],
   "source": [
    "# get the symbols\n",
    "sql = \"Exec usp_Equity_Read\"\n",
    "symbols = pandas.read_sql(sql,conn)\n",
    "symbols['Symbol'] = symbols['Symbol'].str.upper()\n",
    "symbol_list = symbols['Symbol'].tolist()\n",
    "symbols.head()"
   ]
  },
  {
   "cell_type": "code",
   "execution_count": 11,
   "metadata": {},
   "outputs": [],
   "source": [
    "# get the trade date id\n",
    "# today = datetime.today().strftime('%Y-%m-%d')\n",
    "today = '2020-12-16'\n",
    "sql = f\"SELECT TradedateID FROM dbo.TradeDate WHERE TradeDate = '{today}'\"\n",
    "cursor = conn.cursor()\n",
    "cursor.execute(sql)\n",
    "tradeDateID = cursor.fetchone()[0]"
   ]
  },
  {
   "cell_type": "code",
   "execution_count": 20,
   "metadata": {},
   "outputs": [
    {
     "output_type": "execute_result",
     "data": {
      "text/plain": [
       "   EquityID Symbol symbol    open   close    high     low     volume\n",
       "0         3   AAPL   AAPL  132.01  129.23  129.23  128.14  100049844\n",
       "1        13   ADBE   ADBE     491   501.6   503.4  494.21    2604794\n",
       "2        32    AMD    AMD  101.02  100.44  101.13   96.69   35042294\n",
       "3        34   AMGN   AMGN   238.3  237.22  240.88  235.59    2630386\n",
       "4       125   CGNX   CGNX   79.13   79.04    81.9   77.74     707743"
      ],
      "text/html": "<div>\n<style scoped>\n    .dataframe tbody tr th:only-of-type {\n        vertical-align: middle;\n    }\n\n    .dataframe tbody tr th {\n        vertical-align: top;\n    }\n\n    .dataframe thead th {\n        text-align: right;\n    }\n</style>\n<table border=\"1\" class=\"dataframe\">\n  <thead>\n    <tr style=\"text-align: right;\">\n      <th></th>\n      <th>EquityID</th>\n      <th>Symbol</th>\n      <th>symbol</th>\n      <th>open</th>\n      <th>close</th>\n      <th>high</th>\n      <th>low</th>\n      <th>volume</th>\n    </tr>\n  </thead>\n  <tbody>\n    <tr>\n      <th>0</th>\n      <td>3</td>\n      <td>AAPL</td>\n      <td>AAPL</td>\n      <td>132.01</td>\n      <td>129.23</td>\n      <td>129.23</td>\n      <td>128.14</td>\n      <td>100049844</td>\n    </tr>\n    <tr>\n      <th>1</th>\n      <td>13</td>\n      <td>ADBE</td>\n      <td>ADBE</td>\n      <td>491</td>\n      <td>501.6</td>\n      <td>503.4</td>\n      <td>494.21</td>\n      <td>2604794</td>\n    </tr>\n    <tr>\n      <th>2</th>\n      <td>32</td>\n      <td>AMD</td>\n      <td>AMD</td>\n      <td>101.02</td>\n      <td>100.44</td>\n      <td>101.13</td>\n      <td>96.69</td>\n      <td>35042294</td>\n    </tr>\n    <tr>\n      <th>3</th>\n      <td>34</td>\n      <td>AMGN</td>\n      <td>AMGN</td>\n      <td>238.3</td>\n      <td>237.22</td>\n      <td>240.88</td>\n      <td>235.59</td>\n      <td>2630386</td>\n    </tr>\n    <tr>\n      <th>4</th>\n      <td>125</td>\n      <td>CGNX</td>\n      <td>CGNX</td>\n      <td>79.13</td>\n      <td>79.04</td>\n      <td>81.9</td>\n      <td>77.74</td>\n      <td>707743</td>\n    </tr>\n  </tbody>\n</table>\n</div>"
     },
     "metadata": {},
     "execution_count": 20
    }
   ],
   "source": [
    "# pull the data from iex and add it to the data frame\n",
    "# iex can only get 100 records at a time\n",
    "chunks = chunker(symbol_list, 100)\n",
    "data = symbols[['EquityID', 'Symbol']]\n",
    "quotes = []\n",
    "for chunk in chunks:\n",
    "    batch = Stock(chunk, output_format=\"pandas\")\n",
    "    quote = batch.get_quote()\n",
    "    quote = quote[['symbol', 'open', 'close', 'high', 'low', 'volume']]\n",
    "    quotes.append(quote)\n",
    "quotes = pandas.concat(quotes)\n",
    "data = data.merge(quotes, left_on='Symbol', right_on='symbol', how='outer')\n",
    "data.head()"
   ]
  },
  {
   "cell_type": "code",
   "execution_count": 21,
   "metadata": {},
   "outputs": [
    {
     "output_type": "execute_result",
     "data": {
      "text/plain": [
       "   EquityID Symbol    Open   Close    High     Low     Volume   TradeDate  \\\n",
       "0         3   AAPL  132.01  129.23  129.23  128.14  100049844  2020-12-16   \n",
       "1        13   ADBE     491   501.6   503.4  494.21    2604794  2020-12-16   \n",
       "2        32    AMD  101.02  100.44  101.13   96.69   35042294  2020-12-16   \n",
       "3        34   AMGN   238.3  237.22  240.88  235.59    2630386  2020-12-16   \n",
       "4       125   CGNX   79.13   79.04    81.9   77.74     707743  2020-12-16   \n",
       "\n",
       "   TradeDateID           LastModifiedDate  \n",
       "0        13515 2020-12-17 00:13:24.648518  \n",
       "1        13515 2020-12-17 00:13:24.648518  \n",
       "2        13515 2020-12-17 00:13:24.648518  \n",
       "3        13515 2020-12-17 00:13:24.648518  \n",
       "4        13515 2020-12-17 00:13:24.648518  "
      ],
      "text/html": "<div>\n<style scoped>\n    .dataframe tbody tr th:only-of-type {\n        vertical-align: middle;\n    }\n\n    .dataframe tbody tr th {\n        vertical-align: top;\n    }\n\n    .dataframe thead th {\n        text-align: right;\n    }\n</style>\n<table border=\"1\" class=\"dataframe\">\n  <thead>\n    <tr style=\"text-align: right;\">\n      <th></th>\n      <th>EquityID</th>\n      <th>Symbol</th>\n      <th>Open</th>\n      <th>Close</th>\n      <th>High</th>\n      <th>Low</th>\n      <th>Volume</th>\n      <th>TradeDate</th>\n      <th>TradeDateID</th>\n      <th>LastModifiedDate</th>\n    </tr>\n  </thead>\n  <tbody>\n    <tr>\n      <th>0</th>\n      <td>3</td>\n      <td>AAPL</td>\n      <td>132.01</td>\n      <td>129.23</td>\n      <td>129.23</td>\n      <td>128.14</td>\n      <td>100049844</td>\n      <td>2020-12-16</td>\n      <td>13515</td>\n      <td>2020-12-17 00:13:24.648518</td>\n    </tr>\n    <tr>\n      <th>1</th>\n      <td>13</td>\n      <td>ADBE</td>\n      <td>491</td>\n      <td>501.6</td>\n      <td>503.4</td>\n      <td>494.21</td>\n      <td>2604794</td>\n      <td>2020-12-16</td>\n      <td>13515</td>\n      <td>2020-12-17 00:13:24.648518</td>\n    </tr>\n    <tr>\n      <th>2</th>\n      <td>32</td>\n      <td>AMD</td>\n      <td>101.02</td>\n      <td>100.44</td>\n      <td>101.13</td>\n      <td>96.69</td>\n      <td>35042294</td>\n      <td>2020-12-16</td>\n      <td>13515</td>\n      <td>2020-12-17 00:13:24.648518</td>\n    </tr>\n    <tr>\n      <th>3</th>\n      <td>34</td>\n      <td>AMGN</td>\n      <td>238.3</td>\n      <td>237.22</td>\n      <td>240.88</td>\n      <td>235.59</td>\n      <td>2630386</td>\n      <td>2020-12-16</td>\n      <td>13515</td>\n      <td>2020-12-17 00:13:24.648518</td>\n    </tr>\n    <tr>\n      <th>4</th>\n      <td>125</td>\n      <td>CGNX</td>\n      <td>79.13</td>\n      <td>79.04</td>\n      <td>81.9</td>\n      <td>77.74</td>\n      <td>707743</td>\n      <td>2020-12-16</td>\n      <td>13515</td>\n      <td>2020-12-17 00:13:24.648518</td>\n    </tr>\n  </tbody>\n</table>\n</div>"
     },
     "metadata": {},
     "execution_count": 21
    }
   ],
   "source": [
    "# make the columns match the database table\n",
    "data.rename(columns = {\n",
    "    'open': 'Open', \n",
    "    'close': 'Close', \n",
    "    'high': 'High',\n",
    "    'low': 'Low',\n",
    "    'volume': 'Volume'\n",
    "}, inplace = True) \n",
    "data.drop(columns=['symbol'], inplace = True)\n",
    "data['TradeDate'] = today\n",
    "data['TradeDateID'] = tradeDateID\n",
    "data['LastModifiedDate'] = datetime.now()\n",
    "data.head()"
   ]
  },
  {
   "cell_type": "code",
   "execution_count": 28,
   "metadata": {},
   "outputs": [
    {
     "output_type": "stream",
     "name": "stdout",
     "text": [
      "['ODBC Driver 17 for SQL Server']\n"
     ]
    }
   ],
   "source": [
    "# write to the database\n",
    "(svr, db, uid, pwd) = environ['MSSQL_SERVER'], environ['MSSQL_DB'], environ['MSSQL_UID'], environ['MSSQL_PWD']\n",
    "conn = pyodbc.connect(f'DRIVER=ODBC Driver 17 for SQL Server;SERVER={svr};DATABASE={db};UID={uid};PWD={pwd}')\n",
    "\n",
    "quoted = urllib.parse.quote_plus(f'DRIVER=ODBC Driver 17 for SQL Server;SERVER={svr};DATABASE={db};UID={uid};PWD={pwd}')\n",
    "engine = create_engine(f'mssql+pyodbc:///?odbc_connect={quoted}')\n",
    "\n",
    "data.to_sql('Stage_FactEODData', schema='dbo', con=engine, if_exists='append', index=False)"
   ]
  },
  {
   "cell_type": "code",
   "execution_count": null,
   "metadata": {},
   "outputs": [],
   "source": []
  }
 ],
 "metadata": {
  "kernelspec": {
   "display_name": "Python 3",
   "language": "python",
   "name": "python3"
  },
  "language_info": {
   "codemirror_mode": {
    "name": "ipython",
    "version": 3
   },
   "file_extension": ".py",
   "mimetype": "text/x-python",
   "name": "python",
   "nbconvert_exporter": "python",
   "pygments_lexer": "ipython3",
   "version": "3.8.5-final"
  }
 },
 "nbformat": 4,
 "nbformat_minor": 4
}